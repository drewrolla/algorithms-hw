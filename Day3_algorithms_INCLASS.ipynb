{
 "cells": [
  {
   "cell_type": "markdown",
   "metadata": {},
   "source": [
    "# Algorithms, Binary Search & Linked Lists"
   ]
  },
  {
   "cell_type": "markdown",
   "metadata": {},
   "source": [
    "## Tasks Today:\n",
    " \n",
    "1) <b>In-Place Algorithms</b> <br>\n",
    " &nbsp;&nbsp;&nbsp;&nbsp; a) Syntax <br>\n",
    " &nbsp;&nbsp;&nbsp;&nbsp; a) Out of Place Algorithm <br>\n",
    " &nbsp;&nbsp;&nbsp;&nbsp; b) In-Class Exercise #1 <br>\n",
    "2) <b>Two Pointers</b> <br>\n",
    "3) <b>Linked Lists</b> <br>\n",
    "4) <b>Merge Sort</b> <br>\n",
    " &nbsp;&nbsp;&nbsp;&nbsp; a) Video on Algorithms <br>\n",
    " &nbsp;&nbsp;&nbsp;&nbsp; b) How it Works <br>\n",
    "5) <b>Exercises</b> <br>\n",
    " &nbsp;&nbsp;&nbsp;&nbsp; a) Exercise #1 - Reverse a List in Place Using an In-Place Algorithm <br>\n",
    " &nbsp;&nbsp;&nbsp;&nbsp; b) Exercise #2 - Find Distinct Words <br>\n",
    " &nbsp;&nbsp;&nbsp;&nbsp; c) Exercise #3 - Write a program to implement a Linear Search Algorithm. <br>"
   ]
  },
  {
   "cell_type": "markdown",
   "metadata": {},
   "source": [
    "## In-Place Algorithms"
   ]
  },
  {
   "cell_type": "markdown",
   "metadata": {},
   "source": [
    "#### Syntax"
   ]
  },
  {
   "cell_type": "code",
   "execution_count": 9,
   "metadata": {},
   "outputs": [
    {
     "name": "stdout",
     "output_type": "stream",
     "text": [
      "myList before swap:  [3, 5, 7, 9, 11]\n",
      "output:  None\n",
      "myList after swap:  [3, 9, 7, 5, 11]\n"
     ]
    }
   ],
   "source": [
    " # sometimes called the swap algo\n",
    " def swap(nums, x,y):\n",
    "    nums[x], nums[y] = nums[y], nums[x] #swapping the position of the numbers at those indexes in the list\n",
    "\n",
    "    # temp = nums[x]\n",
    "    # nums[x] = nums[y]\n",
    "    # nums[y] = temp\n",
    "\n",
    "myList = [3, 5, 7, 9, 11]\n",
    "print('myList before swap: ', myList)\n",
    "output = swap(myList, 1, 3)\n",
    "print('output: ', output)\n",
    "print('myList after swap: ', myList)"
   ]
  },
  {
   "cell_type": "markdown",
   "metadata": {},
   "source": [
    "#### Out of Place Algorithm"
   ]
  },
  {
   "cell_type": "code",
   "execution_count": 13,
   "metadata": {},
   "outputs": [
    {
     "name": "stdout",
     "output_type": "stream",
     "text": [
      "myList before swap:  [3, 5, 7, 9, 11]\n",
      "output:  [3, 9, 7, 5, 11]\n",
      "myList after swap:  [3, 5, 7, 9, 11]\n"
     ]
    }
   ],
   "source": [
    "def swapOut(nums, x, y):\n",
    "    copy = nums[:]\n",
    "    copy[x], copy[y] = copy[y], copy[x]\n",
    "    return copy\n",
    "\n",
    "myList = [3, 5, 7, 9, 11]\n",
    "print('myList before swap: ', myList)\n",
    "output = swapOut(myList, 1, 3)\n",
    "print('output: ', output)\n",
    "print('myList after swap: ', myList)"
   ]
  },
  {
   "cell_type": "markdown",
   "metadata": {},
   "source": [
    "#### In-Class Exercise #1 <br>\n",
    "<p>Write a function that takes in four arguments (list, index1, index2, index3), and swaps those three positions in the list passed in.</p>"
   ]
  },
  {
   "cell_type": "code",
   "execution_count": 17,
   "metadata": {},
   "outputs": [
    {
     "data": {
      "text/plain": [
       "[10, 8, 4, 3, 4, 2, 6]"
      ]
     },
     "execution_count": 17,
     "metadata": {},
     "output_type": "execute_result"
    }
   ],
   "source": [
    "l_1 = [10, 4, 3, 8, 4, 2, 6]\n",
    "\n",
    "def algorithm(list, index1, index2, index3):\n",
    "    list[index1], list[index2], list[index3] = list[index3], list[index1], list[index2]\n",
    "    return list\n",
    "\n",
    "algorithm(l_1, 3, 1, 2)\n"
   ]
  },
  {
   "cell_type": "markdown",
   "metadata": {},
   "source": [
    "## Two Pointers"
   ]
  },
  {
   "cell_type": "markdown",
   "metadata": {},
   "source": [
    "#### Syntax"
   ]
  },
  {
   "cell_type": "code",
   "execution_count": 18,
   "metadata": {},
   "outputs": [
    {
     "name": "stdout",
     "output_type": "stream",
     "text": [
      "[6, 2, 4, 8, 3, 4, 10]\n"
     ]
    }
   ],
   "source": [
    "# use two pointers to swap (reverse this list)\n",
    "def twoPointerReverse(alist):\n",
    "    # creating pointers\n",
    "    left = 0\n",
    "    right = len(alist)-1\n",
    "    while left < right:\n",
    "        alist[left], alist[right] = alist[right], alist[left]\n",
    "        left += 1\n",
    "        right -= 1\n",
    "\n",
    "l_1 = [10, 4, 3, 8, 4, 2, 6]\n",
    "twoPointerReverse(l_1)\n",
    "print(l_1)"
   ]
  },
  {
   "cell_type": "markdown",
   "metadata": {},
   "source": [
    "#### Video of Algorithms <br>\n",
    "<p>Watch the video about algorithms.</p>\n",
    "\n",
    "https://www.youtube.com/watch?v=Q9HjeFD62Uk\n",
    "\n",
    "https://www.youtube.com/watch?v=kPRA0W1kECg\n",
    "\n",
    "https://www.youtube.com/watch?v=ZZuD6iUe3Pc"
   ]
  },
  {
   "cell_type": "markdown",
   "metadata": {},
   "source": [
    "# Sorting Algorithms"
   ]
  },
  {
   "cell_type": "markdown",
   "metadata": {},
   "source": [
    "#### Bubble Sort\n",
    "\n",
    "Worst Case: O(n^2) Time - O(1) Space"
   ]
  },
  {
   "cell_type": "code",
   "execution_count": 22,
   "metadata": {},
   "outputs": [
    {
     "name": "stdout",
     "output_type": "stream",
     "text": [
      "5\n",
      "[2, 3, 4, 4, 6, 8, 10]\n"
     ]
    }
   ],
   "source": [
    "# iterate through the list\n",
    "# compare current number AND the one right next to it\n",
    "# if necessary, swap (left should be of smaller value)\n",
    "# repeat process for however long the list is\n",
    "def swap(nums, x,y):\n",
    "    nums[x], nums[y] = nums[y], nums[x]\n",
    "\n",
    "\n",
    "\n",
    "def bubbleSort(nums):\n",
    "    count = 0 # count will keep track of how many times the loop is run\n",
    "    for _ in nums:\n",
    "        isSorted = True\n",
    "        for i in range(len(nums)-1-count): # optimizes the code making it more efficient - does not have to run through entire list anymore\n",
    "            if nums[i] > nums[i+1]:\n",
    "                swap(nums, i, i+1)\n",
    "                isSorted = False\n",
    "        if isSorted:\n",
    "            break\n",
    "        \n",
    "\n",
    "        count += 1\n",
    "    print(count)\n",
    "\n",
    "l_1 = [10, 4, 3, 8, 4, 2, 6]\n",
    "bubbleSort(l_1)\n",
    "print(l_1)\n",
    "\n",
    "\n"
   ]
  },
  {
   "cell_type": "markdown",
   "metadata": {},
   "source": [
    "##### Insertion Sort\n",
    "\n",
    "Worst Case: O(n^2) time - O(1)space"
   ]
  },
  {
   "cell_type": "code",
   "execution_count": 26,
   "metadata": {},
   "outputs": [
    {
     "name": "stdout",
     "output_type": "stream",
     "text": [
      "[2, 3, 4, 4, 6, 8, 10]\n"
     ]
    }
   ],
   "source": [
    "def swap(nums, x,y):\n",
    "    nums[x], nums[y] = nums[y], nums[x]\n",
    "\n",
    "def insertionSort(nums):\n",
    "    for i in range(1, len(nums)):\n",
    "        j = i\n",
    "        while j > 0 and nums[j] < nums[j-1]:\n",
    "            swap(nums, j, j-1)\n",
    "            j -= 1\n",
    "\n",
    "l_1 = [10, 4, 3, 8, 4, 2, 6]\n",
    "insertionSort(l_1)\n",
    "print(l_1)"
   ]
  },
  {
   "cell_type": "markdown",
   "metadata": {},
   "source": [
    "## Merge Sort"
   ]
  },
  {
   "cell_type": "markdown",
   "metadata": {},
   "source": [
    "#### How it Works"
   ]
  },
  {
   "cell_type": "code",
   "execution_count": 29,
   "metadata": {},
   "outputs": [
    {
     "name": "stdout",
     "output_type": "stream",
     "text": [
      "Splitting.... [10, 4, 3, 8, 4, 2, 6]\n",
      "Splitting.... [10, 4, 3]\n",
      "Splitting.... [10]\n",
      "Merging..... [10]\n",
      "Splitting.... [4, 3]\n",
      "Splitting.... [4]\n",
      "Merging..... [4]\n",
      "Splitting.... [3]\n",
      "Merging..... [3]\n",
      "Merging..... [3, 4]\n",
      "Merging..... [3, 4, 10]\n",
      "Splitting.... [8, 4, 2, 6]\n",
      "Splitting.... [8, 4]\n",
      "Splitting.... [8]\n",
      "Merging..... [8]\n",
      "Splitting.... [4]\n",
      "Merging..... [4]\n",
      "Merging..... [4, 8]\n",
      "Splitting.... [2, 6]\n",
      "Splitting.... [2]\n",
      "Merging..... [2]\n",
      "Splitting.... [6]\n",
      "Merging..... [6]\n",
      "Merging..... [2, 6]\n",
      "Merging..... [2, 4, 6, 8]\n",
      "Merging..... [2, 3, 4, 4, 6, 8, 10]\n",
      "[2, 3, 4, 4, 6, 8, 10]\n"
     ]
    }
   ],
   "source": [
    "# step1: split into own groups\n",
    "# step2: from left to right, start merging to groups (in sorted manner)\n",
    "# step3: while merging, place each item into correct position within merged group\n",
    "# step4: continue steps 3-4 until one group is left\n",
    "\n",
    "def mergeSort(nums):\n",
    "    print('Splitting....', nums)\n",
    "    # step1\n",
    "    if len(nums) > 1:\n",
    "        mid = len(nums)//2\n",
    "        lefthalf = nums[:mid]\n",
    "        righthalf = nums[mid:]\n",
    "\n",
    "        # recursively call mergeSort on each half\n",
    "        mergeSort(lefthalf)\n",
    "        mergeSort(righthalf)\n",
    "\n",
    "        # create index pointers for our list\n",
    "        i = 0 # pointer for lefthalf\n",
    "        j = 0 # pointer for righthalf\n",
    "        k = 0 # pointer for main array\n",
    "\n",
    "        # step 2\n",
    "        while i < len(lefthalf) and j < len(righthalf):\n",
    "            if lefthalf[i] < righthalf[j]:\n",
    "                nums[k] = lefthalf[i]\n",
    "                i += 1\n",
    "            else:\n",
    "                nums[k] = righthalf[j]\n",
    "                j += 1\n",
    "            k += 1 # outside the if statement b/c k will increment either way\n",
    "\n",
    "        # step 3\n",
    "        while i < len(lefthalf):\n",
    "            nums[k] = lefthalf[i]\n",
    "            i += 1\n",
    "            k += 1\n",
    "        \n",
    "        while j < len(righthalf):\n",
    "            nums[k] = righthalf[j]\n",
    "            j += 1\n",
    "            k += 1\n",
    "\n",
    "        \n",
    "    print('Merging.....', nums)\n",
    "    return nums\n",
    "\n",
    "l_1 = [10, 4, 3, 8, 4, 2, 6]\n",
    "mergeSort(l_1)\n",
    "print(l_1)\n",
    "\n"
   ]
  },
  {
   "cell_type": "markdown",
   "metadata": {},
   "source": [
    "# Binary Search\n",
    "\n",
    "The Binary Search algorithm works by finding the number in the middle of a given array and comparing it to the target. Given that the array is sorted\n",
    "\n",
    "* The worst case run time for this algorithm is `O(log(n))`"
   ]
  },
  {
   "cell_type": "code",
   "execution_count": 34,
   "metadata": {},
   "outputs": [
    {
     "name": "stdout",
     "output_type": "stream",
     "text": [
      "[1, 1, 1, 2, 3, 4, 4, 6, 8, 10]\n",
      "4 3\n",
      "7 6\n",
      "5 4\n"
     ]
    },
    {
     "data": {
      "text/plain": [
       "'Found 4 at index 5'"
      ]
     },
     "execution_count": 34,
     "metadata": {},
     "output_type": "execute_result"
    }
   ],
   "source": [
    "def binarySearch(array, target): # needs to have sorted arrays/lists\n",
    "    left = 0\n",
    "    right = len(array)-1\n",
    "\n",
    "    while left <= right:\n",
    "        mid = (left + right)//2\n",
    "        potentialMatch = array[mid]\n",
    "        print(mid, potentialMatch)\n",
    "        if target == potentialMatch:\n",
    "            return f\"Found {target} at index {mid}\"\n",
    "        elif target < potentialMatch:\n",
    "            right = mid - 1\n",
    "        else:\n",
    "            left = mid + 1\n",
    "\n",
    "    return \"Not found\"\n",
    "\n",
    "l_1 = [1 ,1, 1, 2, 3, 4, 4, 6, 8, 10]\n",
    "print(l_1)\n",
    "binarySearch(l_1, 4)\n",
    "\n"
   ]
  },
  {
   "cell_type": "markdown",
   "metadata": {},
   "source": [
    "# Exercises"
   ]
  },
  {
   "cell_type": "markdown",
   "metadata": {},
   "source": [
    "### Exercise #1 <br>\n",
    "<p>Reverse the list below in-place using an in-place algorithm.<br>For extra credit: Reverse the strings at the same time.</p>"
   ]
  },
  {
   "cell_type": "code",
   "execution_count": 5,
   "metadata": {},
   "outputs": [
    {
     "data": {
      "text/plain": [
       "['.', 'ecnetnes', 'a', 'si', 'siht']"
      ]
     },
     "execution_count": 5,
     "metadata": {},
     "output_type": "execute_result"
    }
   ],
   "source": [
    "words = ['this' , 'is', 'a', 'sentence', '.']\n",
    "\n",
    "# swap the strings first, then actually reverse the strings themselves\n",
    "def swap(list):\n",
    "    list[0], list[1], list[2], list[3], list[4] = list[4][::-1], list[3][::-1], list[2][::-1], list[1][::-1], list[0][::-1]\n",
    "    return list\n",
    "\n",
    "swap(words) \n",
    "\n",
    "\n",
    "# function works, need to reverse the actual characters themselves\n",
    "# using [::-1] is an option, but adding it at return list causes the function to \"undo\" itself\n",
    "# figured out, just had to add the [::-1] to the swap algorithm instead"
   ]
  },
  {
   "cell_type": "markdown",
   "metadata": {},
   "source": [
    "### Exercise #2 <br>\n",
    "<p>Create a function that counts how many distinct words are in the string below, then outputs a dictionary with the words as the key and the value as the amount of times that word appears in the string.<br>Should output:<br>{'a': 5,<br>\n",
    " 'abstract': 1,<br>\n",
    " 'an': 3,<br>\n",
    " 'array': 2, ... etc...</p>"
   ]
  },
  {
   "cell_type": "code",
   "execution_count": 12,
   "metadata": {},
   "outputs": [
    {
     "name": "stdout",
     "output_type": "stream",
     "text": [
      "None\n"
     ]
    }
   ],
   "source": [
    "a_text = 'In computing, a hash table hash map is a data structure which implements an associative array abstract data type, a structure that can map keys to values. A hash table uses a hash function to compute an index into an array of buckets or slots from which the desired value can be found'\n",
    "\n",
    "def countWords(words):\n",
    "    # create a dictionary\n",
    "    distinct = dict()\n",
    "    # program needs to go through entire string, and count how often each word appears within string\n",
    "    for x in words: # pretty much, for the words in the string\n",
    "        if x in distinct: # if the word is in the dictionary\n",
    "            distinct[x] += 1 # add the amount of times that word appears to the dictionary +1\n",
    "        else:\n",
    "            distinct[x] = 1 # otherwise, mark it down as the first time it appears\n",
    "# need to output dictionary with words as key and amount of times they appear in string as value\n",
    "    return\n",
    "\n",
    "print(countWords(a_text))\n",
    "\n",
    "\n",
    "# old code\n",
    "# keys() will show the word, values() will show amount\n",
    "     #return distinct.keys(), distinct.values() - doesn't work, seems to break apart the words and counts the characters themselves"
   ]
  },
  {
   "cell_type": "markdown",
   "metadata": {},
   "source": [
    "## Exercise #3\n",
    "\n",
    "Write a program to implement a Linear Search Algorithm. Also in a comment, write the Time Complexity of the following algorithm.\n",
    "\n",
    "#### Hint: Linear Searching will require searching a list for a given number. "
   ]
  },
  {
   "cell_type": "code",
   "execution_count": 62,
   "metadata": {},
   "outputs": [
    {
     "data": {
      "text/plain": [
       "'Found 9 at index 6'"
      ]
     },
     "execution_count": 62,
     "metadata": {},
     "output_type": "execute_result"
    }
   ],
   "source": [
    "# ignore second half of question (the comment bit)\n",
    "# what does a linear search do\n",
    "# if we have array, it will start at the beginning\n",
    "# and then go through the program until we find our target\n",
    "# a basic search\n",
    "\n",
    "def linSearch(array, target):\n",
    "    for i in range(len(array)):\n",
    "        if array[i] == target:\n",
    "            return f\"Found {target} at index {i}\"\n",
    "    return f\"Could not find {target}\"\n",
    "\n",
    "numbers = [3, 4, 5, 6, 7, 8, 9]\n",
    "linSearch(numbers, 9) \n",
    "\n",
    "\n",
    "\n",
    "# program currently can only find 3 - update: figured out the issue, wrong placement of code\n",
    "# old code:\n",
    "# def linSearch(array, target):\n",
    "#     for i in range(len(array)):\n",
    "#         if array[i] == target:\n",
    "#             return f\"Found {target} at index {i}\"\n",
    "#         else:                                         - the else caused my issue, getting rid of it fixed\n",
    "#             return f\"Could not find {target}\"         - return should be under the for, not part of the if statement"
   ]
  }
 ],
 "metadata": {
  "kernelspec": {
   "display_name": "Python 3.9.13 64-bit",
   "language": "python",
   "name": "python3"
  },
  "language_info": {
   "codemirror_mode": {
    "name": "ipython",
    "version": 3
   },
   "file_extension": ".py",
   "mimetype": "text/x-python",
   "name": "python",
   "nbconvert_exporter": "python",
   "pygments_lexer": "ipython3",
   "version": "3.9.13"
  },
  "vscode": {
   "interpreter": {
    "hash": "08e595c52ca3b9470036b1110e67b559e55f367cabc363f2e28d35631ed95060"
   }
  }
 },
 "nbformat": 4,
 "nbformat_minor": 2
}
